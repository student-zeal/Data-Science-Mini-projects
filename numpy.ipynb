{
 "cells": [
  {
   "cell_type": "code",
   "execution_count": 1,
   "id": "e05426c5-ab82-4ed4-80d3-4c4b8e241472",
   "metadata": {},
   "outputs": [
    {
     "name": "stdout",
     "output_type": "stream",
     "text": [
      "Requirement already satisfied: numpy in c:\\users\\abc\\appdata\\local\\packages\\pythonsoftwarefoundation.python.3.11_qbz5n2kfra8p0\\localcache\\local-packages\\python311\\site-packages (2.2.3)\n",
      "Note: you may need to restart the kernel to use updated packages.\n"
     ]
    }
   ],
   "source": [
    "pip install numpy"
   ]
  },
  {
   "cell_type": "code",
   "execution_count": 3,
   "id": "04cd832e-5f25-4f72-ba87-a1cd53e308dc",
   "metadata": {},
   "outputs": [],
   "source": [
    "import numpy as np"
   ]
  },
  {
   "cell_type": "markdown",
   "id": "e87aaa49-ff03-4027-9237-ef473f523472",
   "metadata": {},
   "source": [
    "# array operations"
   ]
  },
  {
   "cell_type": "code",
   "execution_count": 4,
   "id": "cf93162c-463f-45bd-99ce-7cf80d4627f1",
   "metadata": {},
   "outputs": [
    {
     "name": "stdout",
     "output_type": "stream",
     "text": [
      "[ 1  4  9 16 25]\n"
     ]
    }
   ],
   "source": [
    "arr= np.array([1,2,3,4,5])\n",
    "print(arr**2)"
   ]
  },
  {
   "cell_type": "markdown",
   "id": "b216b10c-549e-4b5d-8137-7861f09d6005",
   "metadata": {},
   "source": [
    "#Elementwise operations"
   ]
  },
  {
   "cell_type": "code",
   "execution_count": 5,
   "id": "dbb482fb-a383-4221-a9b6-00559433dfd7",
   "metadata": {},
   "outputs": [
    {
     "name": "stdout",
     "output_type": "stream",
     "text": [
      "[5 7 9]\n"
     ]
    }
   ],
   "source": [
    "arr1=np.array([1,2,3])\n",
    "arr2= np.array([4,5,6])\n",
    "print(arr1+arr2)"
   ]
  },
  {
   "cell_type": "markdown",
   "id": "e83a944a-964f-4b2e-9f54-6185434b511a",
   "metadata": {},
   "source": [
    "#AGGERATION"
   ]
  },
  {
   "cell_type": "code",
   "execution_count": 7,
   "id": "5cac5b5a-c1ea-40d5-990f-1b0b5a101f82",
   "metadata": {},
   "outputs": [
    {
     "data": {
      "text/plain": [
       "array([[1, 2, 3],\n",
       "       [4, 5, 6]])"
      ]
     },
     "execution_count": 7,
     "metadata": {},
     "output_type": "execute_result"
    }
   ],
   "source": [
    "arr=np.array([[1,2,3],[4,5,6]])#2x2 matrix\n",
    "arr"
   ]
  },
  {
   "cell_type": "code",
   "execution_count": 10,
   "id": "fe4f44f1-5f3e-4112-80a1-798aabf01632",
   "metadata": {},
   "outputs": [
    {
     "name": "stdout",
     "output_type": "stream",
     "text": [
      "45\n",
      "5.0\n",
      "9\n",
      "2.581988897471611\n",
      "6.666666666666667\n",
      "[12 15 18]\n",
      "[ 6 15 24]\n"
     ]
    }
   ],
   "source": [
    "print(np.sum(arr))\n",
    "print(np.mean(arr))\n",
    "print(np.max(arr))\n",
    "print(np.std(arr))\n",
    "print(np.var(arr))\n",
    "print(np.sum(arr,axis=0))# sum of columns\n",
    "print(np.sum(arr,axis=1))#sum of rows"
   ]
  },
  {
   "cell_type": "code",
   "execution_count": 9,
   "id": "ddba957c-8575-4ed8-9129-1ccc4ddec5d0",
   "metadata": {},
   "outputs": [
    {
     "data": {
      "text/plain": [
       "array([[1, 2, 3],\n",
       "       [4, 5, 6],\n",
       "       [7, 8, 9]])"
      ]
     },
     "execution_count": 9,
     "metadata": {},
     "output_type": "execute_result"
    }
   ],
   "source": [
    "arr= np.array([[1,2,3],[4,5,6],[7,8,9]])# 3x3 matrix\n",
    "arr"
   ]
  },
  {
   "cell_type": "code",
   "execution_count": 13,
   "id": "41f2b0af-78c1-4ba3-af56-df96f94725cf",
   "metadata": {},
   "outputs": [
    {
     "name": "stdout",
     "output_type": "stream",
     "text": [
      "45\n"
     ]
    }
   ],
   "source": [
    "print(np.sum(arr))\n",
    "print(np.mean(arr))\n",
    "print(np.max(arr))\n",
    "print(np.std(arr))\n",
    "print(np.var(arr))\n",
    "print(np.sum(arr,axis=0))# sum of columns\n",
    "print(np.sum(arr,axis=1))#sum of rows"
   ]
  },
  {
   "cell_type": "markdown",
   "id": "36e21674-96d5-430b-b9f6-98d21d4d2824",
   "metadata": {},
   "source": [
    "# BROADCASTING (Numpy allows operations on arrays of different shapes)"
   ]
  },
  {
   "cell_type": "code",
   "execution_count": 14,
   "id": "289c9d6e-5c28-4dc3-9170-18b6cdf71649",
   "metadata": {},
   "outputs": [
    {
     "name": "stdout",
     "output_type": "stream",
     "text": [
      "[[1 2 3]\n",
      " [4 5 6]]\n",
      "[1 2 3]\n"
     ]
    }
   ],
   "source": [
    "arr = np.array([[1,2,3],[4,5,6]])\n",
    "vector=np.array([1,2,3])\n",
    "print(arr)\n",
    "print(vector)"
   ]
  },
  {
   "cell_type": "code",
   "execution_count": 15,
   "id": "f2e3120a-eeb4-49ea-85ac-d3587180cee8",
   "metadata": {
    "scrolled": true
   },
   "outputs": [
    {
     "name": "stdout",
     "output_type": "stream",
     "text": [
      "[[2 4 6]\n",
      " [5 7 9]]\n"
     ]
    }
   ],
   "source": [
    "print(arr+vector)"
   ]
  },
  {
   "cell_type": "markdown",
   "id": "1039aef0-e1d3-45b0-9ad8-f1bdad3496f9",
   "metadata": {},
   "source": [
    "# STACKING AND SPLITTING ARRAYS "
   ]
  },
  {
   "cell_type": "code",
   "execution_count": 17,
   "id": "c5bd3fbf-4225-4da1-bef3-37e4d3f9b86a",
   "metadata": {},
   "outputs": [
    {
     "data": {
      "text/plain": [
       "array([1, 2, 3])"
      ]
     },
     "execution_count": 17,
     "metadata": {},
     "output_type": "execute_result"
    }
   ],
   "source": [
    "arr1=np.array([1,2,3])\n",
    "arr2=np.array([4,5,6])\n"
   ]
  },
  {
   "cell_type": "code",
   "execution_count": 19,
   "id": "dadfa3f0-bd15-4893-b24a-6bc0b1297c4e",
   "metadata": {},
   "outputs": [
    {
     "name": "stdout",
     "output_type": "stream",
     "text": [
      "[[1 2 3]\n",
      " [4 5 6]]\n"
     ]
    }
   ],
   "source": [
    "stacked=np.vstack((arr1,arr2))#vertical stacking\n",
    "print(stacked)\n"
   ]
  },
  {
   "cell_type": "code",
   "execution_count": 22,
   "id": "7880014a-6600-4a2d-97ba-638e9676e2bb",
   "metadata": {},
   "outputs": [
    {
     "name": "stdout",
     "output_type": "stream",
     "text": [
      "[1 2 3 4 5 6]\n"
     ]
    }
   ],
   "source": [
    "hstacked=np.hstack((arr1,arr2))#horizontal stacking\n",
    "print(hstacked)"
   ]
  },
  {
   "cell_type": "code",
   "execution_count": 20,
   "id": "e6eb3852-1e97-4dbb-8118-d5470c20d705",
   "metadata": {},
   "outputs": [
    {
     "data": {
      "text/plain": [
       "(2, 3)"
      ]
     },
     "execution_count": 20,
     "metadata": {},
     "output_type": "execute_result"
    }
   ],
   "source": [
    "stacked.shape"
   ]
  },
  {
   "cell_type": "markdown",
   "id": "2f0c998d-014f-4c1a-be8c-8140d9dab8d9",
   "metadata": {},
   "source": [
    "# BOOLEAN MASKING AND FILTERING"
   ]
  },
  {
   "cell_type": "code",
   "execution_count": 23,
   "id": "7221bfc7-aeb0-42cc-a547-f4c31929716b",
   "metadata": {},
   "outputs": [],
   "source": [
    "arr= np.array([1,2,3,4,5,6])\n",
    "mask= arr >3 # mask is an array containing bool values."
   ]
  },
  {
   "cell_type": "code",
   "execution_count": 24,
   "id": "072d265b-3218-4a61-9ea3-b39d8d572271",
   "metadata": {},
   "outputs": [
    {
     "name": "stdout",
     "output_type": "stream",
     "text": [
      "[4 5 6]\n"
     ]
    }
   ],
   "source": [
    "print(arr[mask])"
   ]
  },
  {
   "cell_type": "code",
   "execution_count": 25,
   "id": "c54f738a-3bc8-45dd-a3c2-85f057fe2d31",
   "metadata": {},
   "outputs": [
    {
     "name": "stdout",
     "output_type": "stream",
     "text": [
      "[2 4 6]\n"
     ]
    }
   ],
   "source": [
    "print(arr[arr%2 == 0])"
   ]
  },
  {
   "cell_type": "markdown",
   "id": "5ef03c44-18f4-450d-8bb5-aeb553688199",
   "metadata": {},
   "source": [
    "# list cannot be used to mask in numpy\n",
    "#l=[1,2,3,4]\n",
    "#mask>3\n",
    "#print(l[mask])"
   ]
  },
  {
   "cell_type": "markdown",
   "id": "66302b81-7b9a-416a-8ebd-5f631774ef11",
   "metadata": {},
   "source": [
    "# SAVING AND LOADING ARRAYS"
   ]
  },
  {
   "cell_type": "code",
   "execution_count": 31,
   "id": "bab9c509-abce-43e9-b1ea-691416efd368",
   "metadata": {},
   "outputs": [],
   "source": [
    "np.save('array.npy',arr) # save to file"
   ]
  },
  {
   "cell_type": "code",
   "execution_count": 32,
   "id": "e4709612-3ba7-463f-b97a-2a8eef7d363b",
   "metadata": {},
   "outputs": [
    {
     "name": "stdout",
     "output_type": "stream",
     "text": [
      "[1 2 3 4 5 6]\n"
     ]
    }
   ],
   "source": [
    "loaded_arr = np.load('array.npy') # load from file\n",
    "print(loaded_arr)"
   ]
  },
  {
   "cell_type": "code",
   "execution_count": 33,
   "id": "0c6590dc-dce1-41f9-b01c-db22b5694104",
   "metadata": {},
   "outputs": [],
   "source": [
    "# To save/load as text files\n",
    "\n",
    "np.savetxt('array.txt',arr,delimiter=\",\")"
   ]
  },
  {
   "cell_type": "code",
   "execution_count": 34,
   "id": "a4d7960b-b9a9-4e51-98f7-b6104bd07259",
   "metadata": {},
   "outputs": [
    {
     "name": "stdout",
     "output_type": "stream",
     "text": [
      "[1. 2. 3. 4. 5. 6.]\n"
     ]
    }
   ],
   "source": [
    "loaded_arr = np.loadtxt('array.txt',delimiter = ',')\n",
    "print(loaded_arr)"
   ]
  },
  {
   "cell_type": "markdown",
   "id": "29a191d8-0333-4436-9529-7d6f402cb343",
   "metadata": {},
   "source": [
    "#WORKING WITH RANDOM NUMBERS"
   ]
  },
  {
   "cell_type": "code",
   "execution_count": 35,
   "id": "b0a6375d-7835-4f9e-816d-36c603f60ea5",
   "metadata": {},
   "outputs": [
    {
     "name": "stdout",
     "output_type": "stream",
     "text": [
      "[[0.83818435 0.61278976 0.62235731]\n",
      " [0.38147863 0.99461864 0.43871975]\n",
      " [0.57541158 0.01885656 0.17721892]]\n"
     ]
    }
   ],
   "source": [
    "print(np.random.rand(3,3))"
   ]
  },
  {
   "cell_type": "code",
   "execution_count": 37,
   "id": "ec2cb39b-b290-49e7-9956-1e1617315c25",
   "metadata": {},
   "outputs": [
    {
     "name": "stdout",
     "output_type": "stream",
     "text": [
      "[[5 4 8]\n",
      " [6 9 9]\n",
      " [5 3 8]]\n"
     ]
    }
   ],
   "source": [
    "print(np.random.randint(1,10,(3,3)))"
   ]
  },
  {
   "cell_type": "code",
   "execution_count": 38,
   "id": "04ddb35a-d3ec-4ee0-99aa-7599b63a837a",
   "metadata": {},
   "outputs": [
    {
     "name": "stdout",
     "output_type": "stream",
     "text": [
      "[[-0.60895216  0.08830737]\n",
      " [-0.49897258  0.64945951]]\n"
     ]
    }
   ],
   "source": [
    "print(np.random.normal(0,1,(2,2)))"
   ]
  },
  {
   "cell_type": "code",
   "execution_count": null,
   "id": "3b093395-9c79-4aff-9124-0a13c97c995a",
   "metadata": {},
   "outputs": [],
   "source": []
  }
 ],
 "metadata": {
  "kernelspec": {
   "display_name": "Python 3 (ipykernel)",
   "language": "python",
   "name": "python3"
  },
  "language_info": {
   "codemirror_mode": {
    "name": "ipython",
    "version": 3
   },
   "file_extension": ".py",
   "mimetype": "text/x-python",
   "name": "python",
   "nbconvert_exporter": "python",
   "pygments_lexer": "ipython3",
   "version": "3.11.9"
  }
 },
 "nbformat": 4,
 "nbformat_minor": 5
}
