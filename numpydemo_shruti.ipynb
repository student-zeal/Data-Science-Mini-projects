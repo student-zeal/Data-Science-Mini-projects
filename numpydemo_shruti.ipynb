{
 "cells": [
  {
   "cell_type": "code",
   "execution_count": 1,
   "id": "232f95f3-c8df-4a0e-a337-0320062f0eef",
   "metadata": {},
   "outputs": [
    {
     "name": "stdout",
     "output_type": "stream",
     "text": [
      "Requirement already satisfied: numpy in c:\\users\\deepn\\appdata\\local\\programs\\python\\python311\\lib\\site-packages (1.26.4)Note: you may need to restart the kernel to use updated packages.\n",
      "\n"
     ]
    }
   ],
   "source": [
    "pip install numpy"
   ]
  },
  {
   "cell_type": "markdown",
   "id": "e58883e2-e425-4fdc-8b69-98b99f915690",
   "metadata": {},
   "source": [
    "# CREATING 1D,2D AND 3D ARRAYS\n"
   ]
  },
  {
   "cell_type": "code",
   "execution_count": 2,
   "id": "4d1defc4-884e-4553-ad13-f9fbcde483cb",
   "metadata": {},
   "outputs": [],
   "source": [
    "import numpy as np"
   ]
  },
  {
   "cell_type": "code",
   "execution_count": 3,
   "id": "a2f56fcc-e763-4b8f-85a0-56fdc5dfb269",
   "metadata": {},
   "outputs": [],
   "source": [
    "arr1d = np.array([1,2,3,4,5])"
   ]
  },
  {
   "cell_type": "code",
   "execution_count": 4,
   "id": "bdfbc208-a9a0-4bdb-8bdd-dfc8651e2b4f",
   "metadata": {},
   "outputs": [],
   "source": [
    "arr2d = np.array([[1,2,3],[4,5,6]])"
   ]
  },
  {
   "cell_type": "code",
   "execution_count": 5,
   "id": "c3c2876c-f1f2-4a47-81ee-4001cead5e77",
   "metadata": {},
   "outputs": [
    {
     "name": "stdout",
     "output_type": "stream",
     "text": [
      "[1 2 3 4 5]\n"
     ]
    }
   ],
   "source": [
    "print(arr1d)"
   ]
  },
  {
   "cell_type": "code",
   "execution_count": 6,
   "id": "a8175a72-45f9-4604-848b-c74ad4ca620e",
   "metadata": {},
   "outputs": [
    {
     "name": "stdout",
     "output_type": "stream",
     "text": [
      "[[1 2 3]\n",
      " [4 5 6]]\n"
     ]
    }
   ],
   "source": [
    "print(arr2d)"
   ]
  },
  {
   "cell_type": "markdown",
   "id": "940dd678-6e5b-4be8-8f37-c26f592cd9fa",
   "metadata": {},
   "source": [
    "# Creating Arrays with Default values"
   ]
  },
  {
   "cell_type": "code",
   "execution_count": 9,
   "id": "09038845-333f-4009-b3a7-3415d995f8ec",
   "metadata": {},
   "outputs": [
    {
     "name": "stdout",
     "output_type": "stream",
     "text": [
      "[[0. 0. 0.]\n",
      " [0. 0. 0.]\n",
      " [0. 0. 0.]]\n"
     ]
    }
   ],
   "source": [
    "zeros = np.zeros((3,3)) # 3x3 matrix filled with zeros.\n",
    "print(zeros)"
   ]
  },
  {
   "cell_type": "code",
   "execution_count": 10,
   "id": "fbdf8a19-e21d-4908-ad26-5e45599fc1c8",
   "metadata": {},
   "outputs": [
    {
     "name": "stdout",
     "output_type": "stream",
     "text": [
      "[[1. 1.]\n",
      " [1. 1.]]\n"
     ]
    }
   ],
   "source": [
    "ones = np.ones((2,2)) # 2x2 matrix filled with ones.\n",
    "print(ones)"
   ]
  },
  {
   "cell_type": "code",
   "execution_count": 11,
   "id": "120e54a7-923e-4099-a33b-70549cf4f5bd",
   "metadata": {},
   "outputs": [
    {
     "name": "stdout",
     "output_type": "stream",
     "text": [
      "[[1. 0. 0.]\n",
      " [0. 1. 0.]\n",
      " [0. 0. 1.]]\n"
     ]
    }
   ],
   "source": [
    "identity = np.eye(3)  # 3x3 identity matrix\n",
    "print(identity)"
   ]
  },
  {
   "cell_type": "code",
   "execution_count": 12,
   "id": "c479e183-a0d5-4f7a-ba6e-ab5762e810ed",
   "metadata": {},
   "outputs": [
    {
     "name": "stdout",
     "output_type": "stream",
     "text": [
      "[[0.48903658 0.21836569 0.9033117 ]\n",
      " [0.29544123 0.43687631 0.52002831]\n",
      " [0.2967223  0.39183706 0.65255148]]\n"
     ]
    }
   ],
   "source": [
    "random_arr = np.random.rand(3,3) # 3x3 matrix with random variables\n",
    "print(random_arr)"
   ]
  },
  {
   "cell_type": "markdown",
   "id": "161061d6-1c04-468d-ad5f-a35c386650ce",
   "metadata": {},
   "source": [
    "# Creating a Range of Values"
   ]
  },
  {
   "cell_type": "code",
   "execution_count": 13,
   "id": "f4fe40c1-769d-47b0-bcff-8f2fb4e7d95f",
   "metadata": {},
   "outputs": [
    {
     "name": "stdout",
     "output_type": "stream",
     "text": [
      "[1 3 5 7 9]\n"
     ]
    }
   ],
   "source": [
    "arr_range = np.arange(1,10,2)\n",
    "print(arr_range)"
   ]
  },
  {
   "cell_type": "code",
   "execution_count": 14,
   "id": "27412a8a-6c2d-4895-b04c-3c8306faf5b1",
   "metadata": {},
   "outputs": [
    {
     "name": "stdout",
     "output_type": "stream",
     "text": [
      "[ 0.   2.5  5.   7.5 10. ]\n"
     ]
    }
   ],
   "source": [
    "arr_linspace = np.linspace(0,10,5) # The last value denotes the no. of samples\n",
    "print(arr_linspace)"
   ]
  },
  {
   "cell_type": "markdown",
   "id": "b73ee66b-f0f9-4ab5-ae2b-f36bc9e2a90c",
   "metadata": {},
   "source": [
    "# Array Properties"
   ]
  },
  {
   "cell_type": "code",
   "execution_count": 16,
   "id": "78132da6-5987-4b6b-b3e0-09a372926dda",
   "metadata": {},
   "outputs": [
    {
     "data": {
      "text/plain": [
       "array([[1, 2, 3],\n",
       "       [4, 5, 6]])"
      ]
     },
     "execution_count": 16,
     "metadata": {},
     "output_type": "execute_result"
    }
   ],
   "source": [
    "arr = np.array([[1,2,3],[4,5,6]])\n",
    "arr"
   ]
  },
  {
   "cell_type": "code",
   "execution_count": 17,
   "id": "6bd05bc7-61e9-4443-856d-530248494141",
   "metadata": {},
   "outputs": [
    {
     "name": "stdout",
     "output_type": "stream",
     "text": [
      "(2, 3)\n"
     ]
    }
   ],
   "source": [
    "print(arr.shape)"
   ]
  },
  {
   "cell_type": "code",
   "execution_count": 18,
   "id": "a038740c-08f1-401b-bf27-38385800a13a",
   "metadata": {},
   "outputs": [
    {
     "name": "stdout",
     "output_type": "stream",
     "text": [
      "6\n"
     ]
    }
   ],
   "source": [
    "print(arr.size)"
   ]
  },
  {
   "cell_type": "code",
   "execution_count": 19,
   "id": "04099df9-fd8d-4c19-9cae-83e3858bd629",
   "metadata": {},
   "outputs": [
    {
     "name": "stdout",
     "output_type": "stream",
     "text": [
      "int32\n"
     ]
    }
   ],
   "source": [
    "print(arr.dtype)"
   ]
  },
  {
   "cell_type": "code",
   "execution_count": 21,
   "id": "882d600f-c826-4a0b-bdb9-d3e8a45cfc50",
   "metadata": {},
   "outputs": [
    {
     "name": "stdout",
     "output_type": "stream",
     "text": [
      "2\n"
     ]
    }
   ],
   "source": [
    "print(arr.ndim)"
   ]
  },
  {
   "cell_type": "markdown",
   "id": "a805dbba-991d-407b-b5eb-4bbc9a991de0",
   "metadata": {},
   "source": [
    "# Reshaping and Flattening Arrays"
   ]
  },
  {
   "cell_type": "code",
   "execution_count": 22,
   "id": "8b0e271a-311a-47b1-a09a-661260833741",
   "metadata": {},
   "outputs": [
    {
     "data": {
      "text/plain": [
       "array([[1, 2, 3],\n",
       "       [4, 5, 6]])"
      ]
     },
     "execution_count": 22,
     "metadata": {},
     "output_type": "execute_result"
    }
   ],
   "source": [
    "arr = np.array([[1,2,3],[4,5,6]])\n",
    "arr"
   ]
  },
  {
   "cell_type": "code",
   "execution_count": 24,
   "id": "ed334e02-73f6-4390-afbb-cf97d54fbfdc",
   "metadata": {},
   "outputs": [
    {
     "name": "stdout",
     "output_type": "stream",
     "text": [
      "(2, 3)\n"
     ]
    }
   ],
   "source": [
    "print(arr.shape)"
   ]
  },
  {
   "cell_type": "code",
   "execution_count": 25,
   "id": "fd1cc48c-7d5e-4556-b1ae-a9cc3f36a68e",
   "metadata": {},
   "outputs": [],
   "source": [
    "reshaped = arr.reshape(3,2) # change shape"
   ]
  },
  {
   "cell_type": "code",
   "execution_count": 26,
   "id": "c248bd21-7fa0-4dc0-8a67-0f0b702cac17",
   "metadata": {},
   "outputs": [
    {
     "name": "stdout",
     "output_type": "stream",
     "text": [
      "[[1 2]\n",
      " [3 4]\n",
      " [5 6]]\n"
     ]
    }
   ],
   "source": [
    "print(reshaped)"
   ]
  },
  {
   "cell_type": "code",
   "execution_count": 27,
   "id": "8569dd63-1334-4511-bfe7-de59af7aefda",
   "metadata": {},
   "outputs": [],
   "source": [
    "flattened = arr.flatten() # convert to 1D array"
   ]
  },
  {
   "cell_type": "code",
   "execution_count": 28,
   "id": "c1088bb6-2a53-4a56-9d83-ec6c1df91baa",
   "metadata": {},
   "outputs": [
    {
     "name": "stdout",
     "output_type": "stream",
     "text": [
      "[1 2 3 4 5 6]\n"
     ]
    }
   ],
   "source": [
    "print(flattened)"
   ]
  },
  {
   "cell_type": "markdown",
   "id": "8d60823f-47b2-489a-93e2-6f75a44debbc",
   "metadata": {},
   "source": [
    "# Indexing and Slicing"
   ]
  },
  {
   "cell_type": "code",
   "execution_count": 29,
   "id": "43415b7e-162a-4e48-8469-bb010cfe805a",
   "metadata": {},
   "outputs": [],
   "source": [
    "arr = np.array([10,20,30,40,50])"
   ]
  },
  {
   "cell_type": "code",
   "execution_count": 30,
   "id": "3fb8c1c1-19ff-477c-b27e-6d1fba008485",
   "metadata": {},
   "outputs": [
    {
     "name": "stdout",
     "output_type": "stream",
     "text": [
      "20\n"
     ]
    }
   ],
   "source": [
    "print(arr[1])"
   ]
  },
  {
   "cell_type": "code",
   "execution_count": 31,
   "id": "72f2d44e-fbfe-4395-b6bd-960a5ba27e7f",
   "metadata": {},
   "outputs": [
    {
     "name": "stdout",
     "output_type": "stream",
     "text": [
      "50\n"
     ]
    }
   ],
   "source": [
    "print(arr[-1])"
   ]
  },
  {
   "cell_type": "code",
   "execution_count": 32,
   "id": "cb44f25c-6231-4889-93f1-31590c238a26",
   "metadata": {},
   "outputs": [
    {
     "name": "stdout",
     "output_type": "stream",
     "text": [
      "[20 30 40]\n"
     ]
    }
   ],
   "source": [
    "print(arr[1:4])"
   ]
  },
  {
   "cell_type": "code",
   "execution_count": 33,
   "id": "a41a8e35-2364-49d7-b681-ca559e197c85",
   "metadata": {},
   "outputs": [
    {
     "name": "stdout",
     "output_type": "stream",
     "text": [
      "[10 20 30]\n"
     ]
    }
   ],
   "source": [
    "print(arr[:3])"
   ]
  },
  {
   "cell_type": "code",
   "execution_count": 34,
   "id": "e4c094ea-e315-4b53-83f5-c29be6465acd",
   "metadata": {},
   "outputs": [
    {
     "name": "stdout",
     "output_type": "stream",
     "text": [
      "[50 40 30 20 10]\n"
     ]
    }
   ],
   "source": [
    "print(arr[::-1])"
   ]
  },
  {
   "cell_type": "markdown",
   "id": "c57917a7-161e-4dd8-9fa7-e2038199e8e0",
   "metadata": {},
   "source": [
    "# For Multi-Dimensional Arrays"
   ]
  },
  {
   "cell_type": "code",
   "execution_count": 36,
   "id": "dba2b8ec-3240-491b-ac40-dcf5961e29fa",
   "metadata": {},
   "outputs": [
    {
     "data": {
      "text/plain": [
       "array([[10, 20, 30],\n",
       "       [40, 50, 60]])"
      ]
     },
     "execution_count": 36,
     "metadata": {},
     "output_type": "execute_result"
    }
   ],
   "source": [
    "arr2d = np.array([[10,20,30],[40,50,60]])\n",
    "arr2d\n"
   ]
  },
  {
   "cell_type": "code",
   "execution_count": 37,
   "id": "d6c5ec2c-f9f5-4dcb-aac7-ebc3935961c8",
   "metadata": {},
   "outputs": [
    {
     "name": "stdout",
     "output_type": "stream",
     "text": [
      "60\n"
     ]
    }
   ],
   "source": [
    "print(arr2d[1,2])"
   ]
  },
  {
   "cell_type": "code",
   "execution_count": 39,
   "id": "f4f1c83b-cbf8-401c-a670-793fc9d9529c",
   "metadata": {},
   "outputs": [
    {
     "name": "stdout",
     "output_type": "stream",
     "text": [
      "[20 50]\n"
     ]
    }
   ],
   "source": [
    "print(arr2d[:,1])"
   ]
  },
  {
   "cell_type": "code",
   "execution_count": 40,
   "id": "4a70af04-8597-4906-bbb0-c674d9712d28",
   "metadata": {},
   "outputs": [
    {
     "name": "stdout",
     "output_type": "stream",
     "text": [
      "[10 20 30]\n"
     ]
    }
   ],
   "source": [
    "print(arr2d[0,:])"
   ]
  },
  {
   "cell_type": "code",
   "execution_count": null,
   "id": "5582e61b-9f14-4261-9c16-c245b0318a1c",
   "metadata": {},
   "outputs": [],
   "source": []
  },
  {
   "cell_type": "code",
   "execution_count": null,
   "id": "3ab8e82a-a023-40e7-9cf8-2f8c2fc7770e",
   "metadata": {},
   "outputs": [],
   "source": []
  },
  {
   "cell_type": "code",
   "execution_count": null,
   "id": "2fc1227c-5181-4bfd-927a-72ab2c7f07f6",
   "metadata": {},
   "outputs": [],
   "source": []
  }
 ],
 "metadata": {
  "kernelspec": {
   "display_name": "Python 3 (ipykernel)",
   "language": "python",
   "name": "python3"
  },
  "language_info": {
   "codemirror_mode": {
    "name": "ipython",
    "version": 3
   },
   "file_extension": ".py",
   "mimetype": "text/x-python",
   "name": "python",
   "nbconvert_exporter": "python",
   "pygments_lexer": "ipython3",
   "version": "3.11.9"
  }
 },
 "nbformat": 4,
 "nbformat_minor": 5
}
